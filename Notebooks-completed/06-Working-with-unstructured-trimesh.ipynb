{
 "cells": [
  {
   "cell_type": "markdown",
   "metadata": {},
   "source": [
    "# Create Trimesh Grid for McDonald Valley Problem"
   ]
  },
  {
   "cell_type": "markdown",
   "metadata": {},
   "source": [
    "## Load Modules and Setup Notebook"
   ]
  },
  {
   "cell_type": "code",
   "execution_count": null,
   "metadata": {},
   "outputs": [],
   "source": [
    "import os\n",
    "import sys\n",
    "import numpy as np\n",
    "import matplotlib as mpl\n",
    "import matplotlib.pyplot as plt\n",
    "import flopy\n",
    "\n",
    "from flopy.utils.gridgen import Gridgen \n",
    "\n",
    "print(sys.version)\n",
    "print('numpy version: {}'.format(np.__version__))\n",
    "print('matplotlib version: {}'.format(mpl.__version__))\n",
    "print('flopy version: {}'.format(flopy.__version__))"
   ]
  },
  {
   "cell_type": "code",
   "execution_count": null,
   "metadata": {},
   "outputs": [],
   "source": [
    "datapath = '../data/mcdonaldvalley-unstructured'\n",
    "ws = './data/ex06-trimesh'"
   ]
  },
  {
   "cell_type": "markdown",
   "metadata": {},
   "source": [
    "## Create Base Grid"
   ]
  },
  {
   "cell_type": "code",
   "execution_count": null,
   "metadata": {},
   "outputs": [],
   "source": [
    "nlay = 5\n",
    "nrow = 40\n",
    "ncol = 25\n",
    "delr = 500.\n",
    "delc = 500.\n",
    "top = 100.\n",
    "botm = np.zeros((nlay, nrow, ncol), dtype=np.float32)\n",
    "botm[0] = -5.\n",
    "botm[1] = -50\n",
    "botm[2] = -51\n",
    "botm[3] = -100\n",
    "fname = os.path.join(datapath, 'bottom.csv')\n",
    "botm[4] = np.loadtxt(fname, delimiter=',')\n",
    "ms = flopy.modflow.Modflow()\n",
    "dis = flopy.modflow.ModflowDis(ms, nlay=nlay, nrow=nrow, ncol=ncol, delr=delr,\n",
    "                               delc=delc, top=top, botm=botm)"
   ]
  },
  {
   "cell_type": "markdown",
   "metadata": {},
   "source": [
    "## Read the Trimesh File into Python"
   ]
  },
  {
   "cell_type": "code",
   "execution_count": null,
   "metadata": {},
   "outputs": [],
   "source": [
    "fname = os.path.join(datapath, 'TriMesh_with_densified_contours.exp')\n",
    "with open(fname, 'r') as f:\n",
    "    lines = f.readlines()\n",
    "\n",
    "# read vertex info into a structured array\n",
    "vtmp = [line.strip().split()[1:] for line in lines if line.startswith('N')]\n",
    "dtype = [('ivert', int), ('x', float), ('y', float), ('label', '|S10'), ('ibound', int), ('elev', float)]\n",
    "vertices = np.empty((len(vtmp)), dtype=dtype)\n",
    "for i, line in enumerate(vtmp):\n",
    "    for j, val in enumerate(line):\n",
    "        vertices[i][j] = val\n",
    "\n",
    "# read element info into a structured array\n",
    "etmp = [line.strip().split()[1:] for line in lines if line.startswith('E')]\n",
    "dtype = [('icell', int), ('iv1', int), ('iv2', int), ('iv3', int), ('label', '|S10'), ('ibound', int), ('elev', float)]\n",
    "cells = np.empty((len(etmp)), dtype=dtype)\n",
    "for i, line in enumerate(etmp):\n",
    "    for j, val in enumerate(line):\n",
    "        cells[i][j] = val"
   ]
  },
  {
   "cell_type": "code",
   "execution_count": null,
   "metadata": {},
   "outputs": [],
   "source": [
    "verts = []\n",
    "for ivert, x, y, label, ibound, elev in vertices:\n",
    "    verts.append([x, y])\n",
    "verts = np.array(verts, dtype=np.float)\n",
    "    \n",
    "iverts = []\n",
    "for i, iv1, iv2, iv3, s, ibound, elev in list(cells):\n",
    "    iverts.append([iv3 - 1, iv2 - 1, iv1 - 1])\n",
    "    \n",
    "ncpl = len(iverts)\n",
    "nvert = verts.shape[0]"
   ]
  },
  {
   "cell_type": "code",
   "execution_count": null,
   "metadata": {},
   "outputs": [],
   "source": [
    "fig = plt.figure(figsize=(15, 15))\n",
    "ax = fig.add_subplot(1, 1, 1, aspect='equal')\n",
    "mm = flopy.plot.PlotMapView(model=ms)\n",
    "mm.plot_cvfd(verts, iverts, facecolor='none', edgecolor='k')\n",
    "plt.xlim(verts[:, 0].min(), verts[:, 0].max())\n",
    "plt.ylim(verts[:, 1].min(), verts[:, 1].max())"
   ]
  },
  {
   "cell_type": "code",
   "execution_count": null,
   "metadata": {},
   "outputs": [],
   "source": [
    "fig = plt.figure(figsize=(15, 15))\n",
    "ax = fig.add_subplot(1, 1, 1, aspect='equal')\n",
    "mm = flopy.plot.PlotMapView(model=ms)\n",
    "mm.plot_cvfd(verts, iverts, a=np.arange(len(iverts)), edgecolor='none', cmap='jet')\n",
    "plt.xlim(verts[:, 0].min(), verts[:, 0].max())\n",
    "plt.ylim(verts[:, 1].min(), verts[:, 1].max())"
   ]
  },
  {
   "cell_type": "markdown",
   "metadata": {},
   "source": [
    "## Calculate Centroids"
   ]
  },
  {
   "cell_type": "code",
   "execution_count": null,
   "metadata": {},
   "outputs": [],
   "source": [
    "# centroid and area array\n",
    "from flopy.utils.cvfdutil import centroid_of_polygon, area_of_polygon\n",
    "xcyc = np.empty((ncpl, 2), dtype=np.float)\n",
    "area = np.empty((ncpl), dtype=np.float)\n",
    "for icell in range(ncpl):\n",
    "    vlist = [(verts[ivert, 0], verts[ivert, 1]) for ivert in iverts[icell]]\n",
    "    xcyc[icell, 0], xcyc[icell, 1] = centroid_of_polygon(vlist)\n",
    "    area[icell] = abs(area_of_polygon(*zip(*vlist)))\n",
    "    \n",
    "fig = plt.figure(figsize=(15, 15))\n",
    "ax = fig.add_subplot(1, 1, 1, aspect='equal')\n",
    "mm = flopy.plot.PlotMapView(model=ms)\n",
    "mm.plot_cvfd(verts, iverts, facecolor='none', edgecolor='k')\n",
    "plt.plot(xcyc[:, 0], xcyc[:, 1], 'ko')\n",
    "plt.xlim(verts[:, 0].min(), verts[:, 0].max())\n",
    "plt.ylim(verts[:, 1].min(), verts[:, 1].max())"
   ]
  },
  {
   "cell_type": "markdown",
   "metadata": {},
   "source": [
    "## Create DISV Arrays"
   ]
  },
  {
   "cell_type": "code",
   "execution_count": null,
   "metadata": {},
   "outputs": [],
   "source": [
    "fname = os.path.join(datapath, 'bottom.csv')\n",
    "bot = np.loadtxt(fname, delimiter=',')\n",
    "bot_tm = ms.sr.interpolate(bot, xcyc)\n",
    "\n",
    "vertices = []\n",
    "for i in range(nvert):\n",
    "    vertices.append((i, verts[i, 0], verts[i, 1]))\n",
    "\n",
    "cell2d = []\n",
    "for i in range(ncpl):\n",
    "    cell2d.append([i, xcyc[i, 0], xcyc[i, 1], 3] + [iv for iv in iverts[i]])    "
   ]
  },
  {
   "cell_type": "markdown",
   "metadata": {},
   "source": [
    "## Intersect the Grid with the Property Arrays"
   ]
  },
  {
   "cell_type": "code",
   "execution_count": null,
   "metadata": {},
   "outputs": [],
   "source": [
    "fname = os.path.join(datapath, 'k_aq.csv')\n",
    "kaq = np.loadtxt(fname, delimiter=',')\n",
    "kaq_tm = ms.sr.interpolate(kaq, xcyc)\n",
    "\n",
    "fig = plt.figure(figsize=(15, 15))\n",
    "ax = fig.add_subplot(1, 1, 1, aspect='equal')\n",
    "mm = flopy.plot.PlotMapView(model=ms)\n",
    "mm.plot_cvfd(verts, iverts, a=kaq_tm, edgecolor='none', cmap='jet')\n",
    "plt.xlim(verts[:, 0].min(), verts[:, 0].max())\n",
    "plt.ylim(verts[:, 1].min(), verts[:, 1].max())"
   ]
  },
  {
   "cell_type": "code",
   "execution_count": null,
   "metadata": {},
   "outputs": [],
   "source": [
    "from flopy.utils.gridgen import read1d\n",
    "kclay = np.empty((dis.nrow * dis.ncol), dtype=np.float)\n",
    "fname = os.path.join(datapath, 'k_clay.txt')\n",
    "f = open(fname, 'r')\n",
    "kclay = read1d(f, kclay).reshape((dis.nrow, dis.ncol))\n",
    "kclay_tm = ms.sr.interpolate(kclay, xcyc)\n",
    "\n",
    "fig = plt.figure(figsize=(15, 15))\n",
    "ax = fig.add_subplot(1, 1, 1, aspect='equal')\n",
    "mm = flopy.plot.PlotMapView(model=ms)\n",
    "mm.plot_cvfd(verts, iverts, a=kclay_tm, edgecolor='none', cmap='jet')\n",
    "plt.xlim(verts[:, 0].min(), verts[:, 0].max())\n",
    "plt.ylim(verts[:, 1].min(), verts[:, 1].max())"
   ]
  },
  {
   "cell_type": "markdown",
   "metadata": {},
   "source": [
    "## Intersect the Features with the Grid"
   ]
  },
  {
   "cell_type": "code",
   "execution_count": null,
   "metadata": {},
   "outputs": [],
   "source": [
    "ibd = cells['ibound']\n",
    "fig = plt.figure(figsize=(15, 15))\n",
    "ax = fig.add_subplot(1, 1, 1, aspect='equal')\n",
    "mm = flopy.plot.PlotMapView(model=ms)\n",
    "mm.plot_cvfd(verts, iverts, a=ibd, edgecolor='none', cmap='jet')\n",
    "plt.xlim(verts[:, 0].min(), verts[:, 0].max())\n",
    "plt.ylim(verts[:, 1].min(), verts[:, 1].max())"
   ]
  },
  {
   "cell_type": "code",
   "execution_count": null,
   "metadata": {},
   "outputs": [],
   "source": [
    "iriv = 1\n",
    "iwel = 2\n",
    "ilak = 3\n",
    "\n",
    "idx = cells['ibound'] == iriv\n",
    "\n",
    "rbot = -2.\n",
    "ct = 0.\n",
    "at = 0.\n",
    "\n",
    "# cond_scale is needed to make sure the total conductance\n",
    "# is similar to what is in the regular grid.\n",
    "cond_scale = 10.28\n",
    "rivspd = []\n",
    "for ip1, iv1, iv2, iv3, txt, ibound, elev in cells[idx]:\n",
    "    icell = ip1 - 1\n",
    "    distance = xcyc[icell, 1]\n",
    "    stage = 0. + distance / (18 * delc)\n",
    "    cond = 1.e5\n",
    "    cond = cond / (delc * delr) * area[icell]\n",
    "    cond = cond * cond_scale\n",
    "    ct += cond\n",
    "    at += area[icell]\n",
    "    rivspd.append([(0, icell), stage, cond, rbot])"
   ]
  },
  {
   "cell_type": "code",
   "execution_count": null,
   "metadata": {},
   "outputs": [],
   "source": [
    "iriv = 1\n",
    "iwel = 2\n",
    "ilak = 3\n",
    "idx = cells['ibound'] == ilak\n",
    "chdspd = [[(0, ip1 - 1), 11.] for ip1, iv1, iv2, iv3, txt, ibound, elev in cells[idx]]"
   ]
  },
  {
   "cell_type": "markdown",
   "metadata": {},
   "source": [
    "## Build the Model"
   ]
  },
  {
   "cell_type": "code",
   "execution_count": null,
   "metadata": {},
   "outputs": [],
   "source": [
    "name = 'mv'\n",
    "exe_name = os.path.abspath('../bin/mf6')\n",
    "sim = flopy.mf6.MFSimulation(sim_ws=ws, sim_name=name, exe_name=exe_name)\n",
    "tdis = flopy.mf6.ModflowTdis(sim)\n",
    "ims = flopy.mf6.ModflowIms(sim, complexity='complex')\n",
    "gwf = flopy.mf6.ModflowGwf(sim, save_flows=True)\n",
    "dis = flopy.mf6.ModflowGwfdisv(gwf, nlay=5, ncpl=ncpl, nvert=nvert, \n",
    "                               top=cells['elev'],\n",
    "                               botm=[-5, -50, -51, -100., bot_tm],\n",
    "                               vertices=vertices, cell2d=cell2d)\n",
    "ic = flopy.mf6.ModflowGwfic(gwf, strt=11.)\n",
    "npf = flopy.mf6.ModflowGwfnpf(gwf, \n",
    "                              xt3doptions=True, save_specific_discharge=True,\n",
    "                              icelltype=[1, 0, 0, 0, 0],\n",
    "                              k=[kaq_tm, kaq_tm, kclay_tm, kaq_tm, kaq_tm],\n",
    "                              k33=[0.25 * kaq_tm, 0.25 * kaq_tm, kclay_tm, 0.25 * kaq_tm, 0.25 * kaq_tm])\n",
    "chd = flopy.mf6.ModflowGwfchd(gwf, stress_period_data=chdspd)\n",
    "rch = flopy.mf6.ModflowGwfrcha(gwf, recharge=.003641)\n",
    "riv = flopy.mf6.ModflowGwfriv(gwf, stress_period_data=rivspd)\n",
    "oc = flopy.mf6.ModflowGwfoc(gwf, \n",
    "                            head_filerecord=name + '.hds', \n",
    "                            budget_filerecord=name + '.bud',\n",
    "                            saverecord=[('HEAD', 'ALL'), ('BUDGET', 'ALL')],\n",
    "                            printrecord=[('HEAD', 'ALL'), ('BUDGET', 'ALL')])\n",
    "sim.write_simulation()\n",
    "sim.run_simulation()"
   ]
  },
  {
   "cell_type": "markdown",
   "metadata": {},
   "source": [
    "## Post-Process the Results"
   ]
  },
  {
   "cell_type": "code",
   "execution_count": null,
   "metadata": {},
   "outputs": [],
   "source": [
    "from flopy.utils.binaryfile import HeadFile, CellBudgetFile\n",
    "fname = os.path.join(ws, name + '.hds')\n",
    "headobj = HeadFile(fname)\n",
    "head = headobj.get_data()[:, 0, :]\n",
    "fname = os.path.join(ws, name + '.bud')\n",
    "budobj = CellBudgetFile(fname, precision='double')\n",
    "spdis = budobj.get_data(text='DATA-SPDIS')\n",
    "\n",
    "ilay = 0\n",
    "\n",
    "fig = plt.figure(figsize=(15, 15))\n",
    "ax = fig.add_subplot(1, 2, 1, aspect='equal')\n",
    "pmv = flopy.plot.PlotMapView(gwf, ax=ax, layer=ilay)\n",
    "pmv.plot_array(head, cmap='jet')\n",
    "#pmv.plot_grid()\n",
    "\n",
    "ax = fig.add_subplot(1, 2, 2, aspect='equal')\n",
    "pmv = flopy.plot.PlotMapView(gwf, ax=ax, layer=ilay)\n",
    "pmv.contour_array(head, levels=np.arange(20))\n",
    "pmv.plot_specific_discharge(spdis)"
   ]
  },
  {
   "cell_type": "code",
   "execution_count": null,
   "metadata": {},
   "outputs": [],
   "source": []
  }
 ],
 "metadata": {
  "kernelspec": {
   "display_name": "Python 3",
   "language": "python",
   "name": "python3"
  },
  "language_info": {
   "codemirror_mode": {
    "name": "ipython",
    "version": 3
   },
   "file_extension": ".py",
   "mimetype": "text/x-python",
   "name": "python",
   "nbconvert_exporter": "python",
   "pygments_lexer": "ipython3",
   "version": "3.6.7"
  }
 },
 "nbformat": 4,
 "nbformat_minor": 2
}
