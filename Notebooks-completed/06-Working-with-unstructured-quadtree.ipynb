{
 "cells": [
  {
   "cell_type": "markdown",
   "metadata": {},
   "source": [
    "# Create Quadtree Grid for McDonald Valley Problem"
   ]
  },
  {
   "cell_type": "markdown",
   "metadata": {},
   "source": [
    "## Load Modules and Setup Notebook"
   ]
  },
  {
   "cell_type": "code",
   "execution_count": null,
   "metadata": {},
   "outputs": [],
   "source": [
    "import os\n",
    "import sys\n",
    "import numpy as np\n",
    "import matplotlib as mpl\n",
    "import matplotlib.pyplot as plt\n",
    "import flopy\n",
    "\n",
    "from flopy.utils.gridgen import Gridgen \n",
    "\n",
    "print(sys.version)\n",
    "print('numpy version: {}'.format(np.__version__))\n",
    "print('matplotlib version: {}'.format(mpl.__version__))\n",
    "print('flopy version: {}'.format(flopy.__version__))"
   ]
  },
  {
   "cell_type": "code",
   "execution_count": null,
   "metadata": {},
   "outputs": [],
   "source": [
    "datapath = '../data/mcdonaldvalley-unstructured'\n",
    "ws = './data/ex06-quadtree'"
   ]
  },
  {
   "cell_type": "markdown",
   "metadata": {},
   "source": [
    "## Create Base Grid"
   ]
  },
  {
   "cell_type": "code",
   "execution_count": null,
   "metadata": {},
   "outputs": [],
   "source": [
    "nlay = 5\n",
    "nrow = 40\n",
    "ncol = 25\n",
    "delr = 500.\n",
    "delc = 500.\n",
    "top = 100.\n",
    "botm = np.zeros((nlay, nrow, ncol), dtype=np.float32)\n",
    "botm[0] = -5.\n",
    "botm[1] = -50\n",
    "botm[2] = -51\n",
    "botm[3] = -100\n",
    "fname = os.path.join(datapath, 'bottom.csv')\n",
    "botm[4] = np.loadtxt(fname, delimiter=',')\n",
    "ms = flopy.modflow.Modflow()\n",
    "dis = flopy.modflow.ModflowDis(ms, nlay=nlay, nrow=nrow, ncol=ncol, delr=delr,\n",
    "                               delc=delc, top=top, botm=botm)"
   ]
  },
  {
   "cell_type": "markdown",
   "metadata": {},
   "source": [
    "## Create Features for Grid Refinement"
   ]
  },
  {
   "cell_type": "code",
   "execution_count": null,
   "metadata": {},
   "outputs": [],
   "source": [
    "def get_circle(x, y, r):\n",
    "    phi = np.arange(0, 2 * np.pi, 0.01)\n",
    "    return x + r * np.cos(phi), y + r * np.sin(phi)"
   ]
  },
  {
   "cell_type": "code",
   "execution_count": null,
   "metadata": {},
   "outputs": [],
   "source": [
    "# wells\n",
    "well_list = [('Reilly', 6, 15, -67000), \n",
    "             ('Virginia City(1)', 35, 16, -268000), \n",
    "             ('Virginia City(2)', 33, 6, -268000)]\n",
    "\n",
    "well_pts = []\n",
    "for name, row, col, Q in well_list:\n",
    "    x = col * delr - 0.5 * delr\n",
    "    y = nrow * delc - row * delc + 0.5 * delc\n",
    "    print(name, x, y, Q)\n",
    "    well_pts.append((x, y))\n",
    "    \n",
    "r = 1000\n",
    "well_circles = []\n",
    "for x, y in well_pts:\n",
    "    xlist, ylist = get_circle(x, y, r)\n",
    "    circle = []\n",
    "    for i in range(xlist.shape[0]):\n",
    "        circle.append((xlist[i], ylist[i]))\n",
    "    well_circles.append(circle)"
   ]
  },
  {
   "cell_type": "code",
   "execution_count": null,
   "metadata": {},
   "outputs": [],
   "source": [
    "# river\n",
    "river = [(8.5 * delr, 0), (8.5 * delr, 18 * delc)]\n",
    "for x, y in river:\n",
    "    print(x, y)"
   ]
  },
  {
   "cell_type": "code",
   "execution_count": null,
   "metadata": {},
   "outputs": [],
   "source": [
    "# lake\n",
    "fname = os.path.join(datapath, 'lake_poly.dat')\n",
    "lake_pts = np.loadtxt(fname)\n",
    "lake_poly = []\n",
    "for x, y in lake_pts:\n",
    "    lake_poly.append((x, y))"
   ]
  },
  {
   "cell_type": "markdown",
   "metadata": {},
   "source": [
    "## Build the Grid"
   ]
  },
  {
   "cell_type": "code",
   "execution_count": null,
   "metadata": {},
   "outputs": [],
   "source": [
    "gridgen_ws = os.path.join(ws, '_gridgen')\n",
    "g = Gridgen(dis, model_ws=gridgen_ws, exe_name='../bin/gridgen')\n",
    "\n",
    "rflist = []\n",
    "\n",
    "#g.add_refinement_features(well_pts, 'point', 3, range(nlay))\n",
    "#rflist.append(os.path.join(gridgen_ws, 'rf0'))\n",
    "g.add_refinement_features([well_circles], 'polygon', 3, range(nlay))\n",
    "rflist.append(os.path.join(gridgen_ws, 'rf0'))\n",
    "\n",
    "g.add_refinement_features([[lake_poly]], 'polygon', 3, range(nlay))\n",
    "rflist.append(os.path.join(gridgen_ws, 'rf1'))\n",
    "\n",
    "g.add_refinement_features([[river]], 'line', 3, range(nlay))\n",
    "rflist.append(os.path.join(gridgen_ws, 'rf2'))\n",
    "\n",
    "g.build(verbose=False)"
   ]
  },
  {
   "cell_type": "markdown",
   "metadata": {},
   "source": [
    "## Plot the Gridgen Input"
   ]
  },
  {
   "cell_type": "code",
   "execution_count": null,
   "metadata": {},
   "outputs": [],
   "source": [
    "fig = plt.figure(figsize=(15, 15))\n",
    "ax = fig.add_subplot(1, 1, 1, aspect='equal')\n",
    "mm = flopy.plot.PlotMapView(model=ms)\n",
    "g.plot()\n",
    "flopy.plot.plot_shapefile(rflist[0], ax=ax, facecolor='red', alpha=0.1)\n",
    "flopy.plot.plot_shapefile(rflist[1], ax=ax, facecolor='blue', alpha=0.1)\n",
    "flopy.plot.plot_shapefile(rflist[2], ax=ax, edgecolor='blue', linewidth=1)"
   ]
  },
  {
   "cell_type": "markdown",
   "metadata": {},
   "source": [
    "## Retrieve DISV Information"
   ]
  },
  {
   "cell_type": "code",
   "execution_count": null,
   "metadata": {},
   "outputs": [],
   "source": [
    "gridprops_disv = g.get_gridprops_disv()\n",
    "#gridprops_disv"
   ]
  },
  {
   "cell_type": "markdown",
   "metadata": {},
   "source": [
    "## Intersect the Grid with the Property Arrays"
   ]
  },
  {
   "cell_type": "code",
   "execution_count": null,
   "metadata": {},
   "outputs": [],
   "source": [
    "ncpl = gridprops_disv['ncpl']\n",
    "cellxy = np.empty((ncpl, 2), dtype=np.float)\n",
    "for n in range(ncpl):\n",
    "    x, y = g.get_center(n)\n",
    "    cellxy[n, 0] = x\n",
    "    cellxy[n, 1] = y\n",
    "\n",
    "fname = os.path.join(datapath, 'k_aq.csv')\n",
    "kaq = np.loadtxt(fname, delimiter=',')\n",
    "kaq_qt = ms.sr.interpolate(kaq, cellxy)\n",
    "\n",
    "from flopy.utils.gridgen import read1d\n",
    "kclay = np.empty((dis.nrow * dis.ncol), dtype=np.float)\n",
    "fname = os.path.join(datapath, 'k_clay.txt')\n",
    "f = open(fname, 'r')\n",
    "kclay = read1d(f, kclay).reshape((dis.nrow, dis.ncol))\n",
    "kclay_qt = ms.sr.interpolate(kclay, cellxy)\n",
    "\n",
    "fig = plt.figure(figsize=(15, 15))\n",
    "ax = fig.add_subplot(1, 2, 1, aspect='equal')\n",
    "ax.imshow(kaq, vmin=kaq.min(), vmax=kaq.max(), cmap='jet')\n",
    "ax.set_title('kaq: {} {}'.format(kaq.min(), kaq.max()))\n",
    "ax = fig.add_subplot(1, 2, 2, aspect='equal')\n",
    "g.plot(ax=ax, a=kaq_qt, vmin=kaq.min(), vmax=kaq.max(), cmap='jet')\n",
    "ax.set_title('kaq: {} {}'.format(kaq_qt.min(), kaq_qt.max()))\n",
    "\n",
    "fig = plt.figure(figsize=(15, 15))\n",
    "ax = fig.add_subplot(1, 2, 1, aspect='equal')\n",
    "ax.imshow(kclay, vmin=kclay.min(), vmax=kclay.max(), cmap='jet')\n",
    "ax.set_title('kclay: {} {}'.format(kclay.min(), kclay.max()))\n",
    "ax = fig.add_subplot(1, 2, 2, aspect='equal')\n",
    "g.plot(ax=ax, a=kclay_qt, vmin=kclay_qt.min(), vmax=kclay_qt.max(), cmap='jet')\n",
    "ax.set_title('kclay_qt: {} {}'.format(kclay_qt.min(), kclay_qt.max()))"
   ]
  },
  {
   "cell_type": "markdown",
   "metadata": {},
   "source": [
    "## Intersect the Features with the Grid"
   ]
  },
  {
   "cell_type": "code",
   "execution_count": null,
   "metadata": {},
   "outputs": [],
   "source": [
    "well_intersect = g.intersect(well_pts, 'point', 0)\n",
    "print(well_intersect)\n",
    "print(well_intersect.dtype)"
   ]
  },
  {
   "cell_type": "code",
   "execution_count": null,
   "metadata": {},
   "outputs": [],
   "source": [
    "lake_intersect = g.intersect([[lake_poly]], 'polygon', 0)\n",
    "print(lake_intersect)\n",
    "print(lake_intersect.dtype)\n",
    "print('number of lake cells: {}'.format(lake_intersect.shape))"
   ]
  },
  {
   "cell_type": "code",
   "execution_count": null,
   "metadata": {
    "scrolled": true
   },
   "outputs": [],
   "source": [
    "river_intersect = g.intersect([[river]], 'line', 0)\n",
    "#print(river_intersect)\n",
    "print(river_intersect.dtype)\n",
    "print('number of river cells: {}'.format(river_intersect.shape))\n",
    "\n",
    "rivspd = []\n",
    "rbot = -2.\n",
    "for i, icell in enumerate(river_intersect.nodenumber):\n",
    "    cond = 1.e5\n",
    "    length = river_intersect['length'][i]\n",
    "    distance = (river_intersect['starting_distance'][i] +\n",
    "                river_intersect['ending_distance'][i]) / 2.\n",
    "    stage = 0 + distance / (18 * delc)\n",
    "    cond = cond / delc * length\n",
    "    rivspd.append([(0, icell), stage, cond, rbot])"
   ]
  },
  {
   "cell_type": "code",
   "execution_count": null,
   "metadata": {},
   "outputs": [],
   "source": [
    "ibd = np.zeros((g.nodelay[0]), dtype=np.int)\n",
    "ibd[well_intersect.nodenumber] = 1\n",
    "ibd[lake_intersect.nodenumber] = 2\n",
    "ibd[river_intersect.nodenumber] = 3\n",
    "\n",
    "fig = plt.figure(figsize=(15, 15))\n",
    "ax = fig.add_subplot(1, 1, 1, aspect='equal')\n",
    "pc = g.plot(ax=ax, a=ibd, masked_values=[0])"
   ]
  },
  {
   "cell_type": "markdown",
   "metadata": {},
   "source": [
    "## Build the Model"
   ]
  },
  {
   "cell_type": "code",
   "execution_count": null,
   "metadata": {},
   "outputs": [],
   "source": [
    "name = 'mv'\n",
    "exe_name = os.path.abspath('../bin/mf6')\n",
    "sim = flopy.mf6.MFSimulation(sim_ws=ws, sim_name=name, exe_name=exe_name)\n",
    "tdis = flopy.mf6.ModflowTdis(sim)\n",
    "ims = flopy.mf6.ModflowIms(sim, complexity='complex')\n",
    "gwf = flopy.mf6.ModflowGwf(sim, save_flows=True)\n",
    "dis = flopy.mf6.ModflowGwfdisv(gwf, **gridprops_disv)\n",
    "ic = flopy.mf6.ModflowGwfic(gwf, strt=11.)\n",
    "npf = flopy.mf6.ModflowGwfnpf(gwf, \n",
    "                              xt3doptions=True, save_specific_discharge=True,\n",
    "                              icelltype=[1, 0, 0, 0, 0],\n",
    "                              k=[kaq_qt, kaq_qt, kclay_qt, kaq_qt, kaq_qt],\n",
    "                              k33=[0.25 * kaq_qt, 0.25 * kaq_qt, kclay_qt, 0.25 * kaq_qt, 0.25 * kaq_qt])\n",
    "chd = flopy.mf6.ModflowGwfchd(gwf, stress_period_data=[((0, rec[0]), 11.) for rec in lake_intersect])\n",
    "rch = flopy.mf6.ModflowGwfrcha(gwf, recharge=.003641)\n",
    "riv = flopy.mf6.ModflowGwfriv(gwf, stress_period_data=rivspd)\n",
    "oc = flopy.mf6.ModflowGwfoc(gwf, \n",
    "                            head_filerecord=name + '.hds', \n",
    "                            budget_filerecord=name + '.bud',\n",
    "                            saverecord=[('HEAD', 'ALL'), ('BUDGET', 'ALL')],\n",
    "                            printrecord=[('HEAD', 'ALL'), ('BUDGET', 'ALL')])\n",
    "sim.write_simulation()\n",
    "sim.run_simulation()"
   ]
  },
  {
   "cell_type": "markdown",
   "metadata": {},
   "source": [
    "## Post-Process the Results"
   ]
  },
  {
   "cell_type": "code",
   "execution_count": null,
   "metadata": {},
   "outputs": [],
   "source": [
    "from flopy.utils.binaryfile import HeadFile, CellBudgetFile\n",
    "fname = os.path.join(ws, name + '.hds')\n",
    "headobj = HeadFile(fname)\n",
    "head = headobj.get_data()[:, 0, :]\n",
    "fname = os.path.join(ws, name + '.bud')\n",
    "budobj = CellBudgetFile(fname, precision='double')\n",
    "spdis = budobj.get_data(text='DATA-SPDIS')\n",
    "\n",
    "ilay = 0\n",
    "\n",
    "fig = plt.figure(figsize=(15, 15))\n",
    "ax = fig.add_subplot(1, 2, 1, aspect='equal')\n",
    "pmv = flopy.plot.PlotMapView(gwf, ax=ax, layer=ilay)\n",
    "pmv.plot_array(head)\n",
    "pmv.plot_grid()\n",
    "\n",
    "ax = fig.add_subplot(1, 2, 2, aspect='equal')\n",
    "pmv = flopy.plot.PlotMapView(gwf, ax=ax, layer=ilay)\n",
    "pmv.contour_array(head, levels=np.arange(20))\n",
    "pmv.plot_specific_discharge(spdis)"
   ]
  },
  {
   "cell_type": "code",
   "execution_count": null,
   "metadata": {},
   "outputs": [],
   "source": []
  }
 ],
 "metadata": {
  "kernelspec": {
   "display_name": "Python 3",
   "language": "python",
   "name": "python3"
  },
  "language_info": {
   "codemirror_mode": {
    "name": "ipython",
    "version": 3
   },
   "file_extension": ".py",
   "mimetype": "text/x-python",
   "name": "python",
   "nbconvert_exporter": "python",
   "pygments_lexer": "ipython3",
   "version": "3.6.7"
  }
 },
 "nbformat": 4,
 "nbformat_minor": 2
}
