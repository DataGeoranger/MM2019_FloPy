{
 "cells": [
  {
   "cell_type": "markdown",
   "metadata": {},
   "source": [
    "# Create Locally Refined Grid for McDonald Valley Problem"
   ]
  },
  {
   "cell_type": "markdown",
   "metadata": {},
   "source": [
    "## Load Modules and Setup Notebook"
   ]
  },
  {
   "cell_type": "code",
   "execution_count": null,
   "metadata": {},
   "outputs": [],
   "source": [
    "import os\n",
    "import sys\n",
    "import numpy as np\n",
    "import matplotlib as mpl\n",
    "import matplotlib.pyplot as plt\n",
    "import flopy\n",
    "\n",
    "from flopy.utils.gridgen import read1d\n",
    "from flopy.utils.lgrutil import Lgr\n",
    "\n",
    "print(sys.version)\n",
    "print('numpy version: {}'.format(np.__version__))\n",
    "print('matplotlib version: {}'.format(mpl.__version__))\n",
    "print('flopy version: {}'.format(flopy.__version__))"
   ]
  },
  {
   "cell_type": "code",
   "execution_count": null,
   "metadata": {},
   "outputs": [],
   "source": [
    "datapath = '../data/mcdonaldvalley-unstructured'\n",
    "assert os.path.isdir(datapath)"
   ]
  },
  {
   "cell_type": "markdown",
   "metadata": {},
   "source": [
    "## Create Parent Model and Run without Refinement"
   ]
  },
  {
   "cell_type": "code",
   "execution_count": null,
   "metadata": {},
   "outputs": [],
   "source": [
    "nlay = 5\n",
    "nrow = 40\n",
    "ncol = 25\n",
    "delr = 500.\n",
    "delc = 500.\n",
    "top = 100.\n",
    "botm = np.zeros((nlay, nrow, ncol), dtype=np.float32)\n",
    "botm[0] = -5.\n",
    "botm[1] = -50\n",
    "botm[2] = -51\n",
    "botm[3] = -100\n",
    "fname = os.path.join(datapath, 'bottom.csv')\n",
    "botm[4] = np.loadtxt(fname, delimiter=',')"
   ]
  },
  {
   "cell_type": "code",
   "execution_count": null,
   "metadata": {},
   "outputs": [],
   "source": [
    "# gridded information (aquifer and clay k values)\n",
    "fname = os.path.join(datapath, 'k_aq.csv')\n",
    "kaq = np.loadtxt(fname, delimiter=',')\n",
    "\n",
    "kclay = np.empty((nrow * ncol), dtype=np.float)\n",
    "fname = os.path.join(datapath, 'k_clay.txt')\n",
    "f = open(fname, 'r')\n",
    "kclay = read1d(f, kclay).reshape((nrow, ncol))\n",
    "\n",
    "fig = plt.figure(figsize=(15, 15))\n",
    "ax = fig.add_subplot(1, 2, 1, aspect='equal')\n",
    "ax.imshow(kaq, vmin=kaq.min(), vmax=kaq.max(), cmap='jet')\n",
    "ax.set_title('kaq: {} {}'.format(kaq.min(), kaq.max()))\n",
    "\n",
    "ax = fig.add_subplot(1, 2, 2, aspect='equal')\n",
    "ax.imshow(kclay, vmin=kclay.min(), vmax=kclay.max(), cmap='jet')\n",
    "ax.set_title('kclay: {} {}'.format(kclay.min(), kclay.max()))"
   ]
  },
  {
   "cell_type": "code",
   "execution_count": null,
   "metadata": {},
   "outputs": [],
   "source": [
    "# lake cell locations\n",
    "chdspd = []\n",
    "fname = os.path.join(datapath, 'lake_data_chd.txt')\n",
    "for  line in open(fname, 'r').readlines():\n",
    "    k, i, j, stage = line.strip().split()\n",
    "    chdspd.append([(int(k) - 1, int(i) - 1, int(j) - 1), float(stage)])"
   ]
  },
  {
   "cell_type": "code",
   "execution_count": null,
   "metadata": {},
   "outputs": [],
   "source": [
    "# boundary conditions\n",
    "welspd = [[(3 - 1, 11 - 1, 10 - 1), -1.5e5]]\n",
    "rech = 0.005\n",
    "\n",
    "rivspd = []\n",
    "stage = np.linspace(1.75, .05, 18)\n",
    "for iriv in range(18):\n",
    "    rivspd.append([(0, iriv + 22, 8), stage[iriv], 1.e5, -2.])"
   ]
  },
  {
   "cell_type": "code",
   "execution_count": null,
   "metadata": {},
   "outputs": [],
   "source": [
    "ws = './data/ex06-mfgrid'\n",
    "name = 'mv'\n",
    "sim = flopy.mf6.MFSimulation(sim_ws=ws, sim_name=name, exe_name='mf6')\n",
    "tdis = flopy.mf6.ModflowTdis(sim)\n",
    "ims = flopy.mf6.ModflowIms(sim, complexity='complex')\n",
    "gwf = flopy.mf6.ModflowGwf(sim, modelname=name, save_flows=True)\n",
    "dis = flopy.mf6.ModflowGwfdis(gwf, nlay=nlay, nrow=nrow, ncol=ncol,\n",
    "                              delr=delr, delc=delc, top=top, botm=botm)\n",
    "ic = flopy.mf6.ModflowGwfic(gwf, strt=11.)\n",
    "npf = flopy.mf6.ModflowGwfnpf(gwf, \n",
    "                              save_specific_discharge=True,\n",
    "                              icelltype=[1, 0, 0, 0, 0],\n",
    "                              k=[kaq, kaq, kclay, kaq, kaq],\n",
    "                              k33=[0.25 * kaq, 0.25 * kaq, kclay, 0.25 * kaq, 0.25 * kaq])\n",
    "chd = flopy.mf6.ModflowGwfchd(gwf, stress_period_data=chdspd)\n",
    "rch = flopy.mf6.ModflowGwfrcha(gwf, recharge=.003641)\n",
    "riv = flopy.mf6.ModflowGwfriv(gwf, stress_period_data=rivspd)\n",
    "budget_file = name + '.bud'\n",
    "head_file = name + '.hds'\n",
    "oc = flopy.mf6.ModflowGwfoc(gwf,\n",
    "                            budget_filerecord=budget_file,\n",
    "                            head_filerecord=head_file,\n",
    "                            saverecord=[('HEAD', 'ALL'), ('BUDGET', 'ALL')])\n",
    "sim.write_simulation()\n",
    "sim.run_simulation()"
   ]
  },
  {
   "cell_type": "code",
   "execution_count": null,
   "metadata": {},
   "outputs": [],
   "source": [
    "head = flopy.utils.HeadFile(os.path.join(ws, head_file)).get_data()\n",
    "bud = flopy.utils.CellBudgetFile(os.path.join(ws, budget_file),\n",
    "                                 precision='double')\n",
    "spdis = bud.get_data(text='DATA-SPDIS')[0]\n",
    "\n",
    "ilay = 0\n",
    "fig = plt.figure(figsize=(15, 15))\n",
    "ax = fig.add_subplot(1, 1, 1, aspect='equal')\n",
    "pmv = flopy.plot.PlotMapView(gwf, ax=ax, layer=ilay)\n",
    "quadmesh = pmv.plot_array(head, cmap='jet')\n",
    "pmv.plot_grid(colors='white')\n",
    "pmv.contour_array(head, levels=np.arange(20), linewidths=3.)\n",
    "pmv.plot_specific_discharge(spdis, color='white')\n",
    "ax.set_title('head min:{:.2f} max:{:.2f}'.format(head[ilay].min(), head[ilay].max()))\n",
    "plt.colorbar(quadmesh, shrink=0.5)"
   ]
  },
  {
   "cell_type": "markdown",
   "metadata": {},
   "source": [
    "## Define Extent and Resolution of Child Model"
   ]
  },
  {
   "cell_type": "code",
   "execution_count": null,
   "metadata": {},
   "outputs": [],
   "source": [
    "# Set the idomain of the parent model in order to \n",
    "# define where the child model will be located\n",
    "idomain = np.ones((nlay, nrow, ncol), dtype=np.int)\n",
    "idrowstart = 25\n",
    "idrowend = 34\n",
    "idcolstart = 5\n",
    "idcolend = 18\n",
    "idomain[0:5, idrowstart:idrowend + 1, idcolstart:idcolend + 1] = 0\n",
    "\n",
    "fig = plt.figure(figsize=(10, 10))\n",
    "ax = fig.add_subplot(1, 1, 1, aspect='equal')\n",
    "pmv = flopy.plot.PlotMapView(gwf, ax=ax, layer=ilay)\n",
    "quadmesh = pmv.plot_array(idomain, cmap='jet')\n",
    "pmv.plot_grid()"
   ]
  },
  {
   "cell_type": "code",
   "execution_count": null,
   "metadata": {},
   "outputs": [],
   "source": [
    "# create the flopy Lgr object to help define the child model\n",
    "ncpp = 3\n",
    "ncppl = nlay * [1]\n",
    "lgr = Lgr(nlay, nrow, ncol, delr, delc, top, botm,\n",
    "            idomain, ncpp, ncppl)\n",
    "\n",
    "cnlay, cnrow, cncol = lgr.get_shape()\n",
    "cdelr, cdelc = lgr.get_delr_delc()\n",
    "ctop, cbotm = lgr.get_top_botm()\n",
    "xorigin, yorigin = lgr.get_lower_left()\n",
    "cidomain = lgr.get_idomain()"
   ]
  },
  {
   "cell_type": "code",
   "execution_count": null,
   "metadata": {},
   "outputs": [],
   "source": [
    "# boundary conditions\n",
    "welspd = [[(3 - 1, 11 - 1, 10 - 1), -1.5e5]]\n",
    "rech = 0.005\n",
    "\n",
    "rivspd = []\n",
    "stage = np.linspace(1.75, .05, 18)\n",
    "for iriv in range(18):\n",
    "    irowriv = iriv + 22\n",
    "    if irowriv < idrowstart or irowriv > idrowend:\n",
    "        rivspd.append([(0, irowriv, 8), stage[iriv], 1.e5, -2.])"
   ]
  },
  {
   "cell_type": "markdown",
   "metadata": {},
   "source": [
    "## Create and Run LGR Simulation"
   ]
  },
  {
   "cell_type": "code",
   "execution_count": null,
   "metadata": {},
   "outputs": [],
   "source": [
    "ws = './data/ex06-lgr'\n",
    "name = 'mv'\n",
    "sim = flopy.mf6.MFSimulation(sim_ws=ws, sim_name=name, exe_name='mf6')\n",
    "tdis = flopy.mf6.ModflowTdis(sim)\n",
    "ims = flopy.mf6.ModflowIms(sim, complexity='complex')\n",
    "gwf = flopy.mf6.ModflowGwf(sim, modelname=name, save_flows=True)\n",
    "dis = flopy.mf6.ModflowGwfdis(gwf, nlay=nlay, nrow=nrow, ncol=ncol,\n",
    "                              delr=delr, delc=delc, top=top, botm=botm,\n",
    "                              idomain=idomain)\n",
    "ic = flopy.mf6.ModflowGwfic(gwf, strt=11.)\n",
    "npf = flopy.mf6.ModflowGwfnpf(gwf, \n",
    "                              save_specific_discharge=True,\n",
    "                              icelltype=[1, 0, 0, 0, 0],\n",
    "                              k=[kaq, kaq, kclay, kaq, kaq],\n",
    "                              k33=[0.25 * kaq, 0.25 * kaq, kclay, 0.25 * kaq, 0.25 * kaq])\n",
    "chd = flopy.mf6.ModflowGwfchd(gwf, stress_period_data=chdspd)\n",
    "rch = flopy.mf6.ModflowGwfrcha(gwf, recharge=.003641)\n",
    "riv = flopy.mf6.ModflowGwfriv(gwf, stress_period_data=rivspd)\n",
    "budget_file = name + '.bud'\n",
    "head_file = name + '.hds'\n",
    "oc = flopy.mf6.ModflowGwfoc(gwf,\n",
    "                            budget_filerecord=budget_file,\n",
    "                            head_filerecord=head_file,\n",
    "                            saverecord=[('HEAD', 'ALL'), ('BUDGET', 'ALL')])\n",
    "\n",
    "\n",
    "# create child gwf model\n",
    "cmodel_name = 'child'\n",
    "cgwf = flopy.mf6.ModflowGwf(sim, modelname=cmodel_name,\n",
    "                           model_nam_file='{}.nam'.format(cmodel_name))\n",
    "cgwf.name_file.save_flows = True\n",
    "cdis = flopy.mf6.ModflowGwfdis(cgwf, nlay=cnlay, nrow=cnrow, ncol=cncol,\n",
    "                               delr=cdelr, delc=cdelc,\n",
    "                               top=ctop, botm=cbotm, idomain=cidomain,\n",
    "                               xorigin=xorigin, yorigin=yorigin)\n",
    "cic = flopy.mf6.ModflowGwfic(cgwf, pname='ic', strt=11.)\n",
    "ckaq = lgr.get_replicated_parent_array(kaq)\n",
    "ckclay = lgr.get_replicated_parent_array(kclay)\n",
    "cnpf = flopy.mf6.ModflowGwfnpf(cgwf, save_specific_discharge=True,\n",
    "                              icelltype=[1, 0, 0, 0, 0], \n",
    "                              k=[ckaq, ckaq, ckclay, ckaq, ckaq],\n",
    "                              k33=[0.25 * ckaq, 0.25 * ckaq, ckclay, 0.25 * ckaq, 0.25 * ckaq])\n",
    "\n",
    "rch = flopy.mf6.ModflowGwfrcha(cgwf, recharge=.003641)\n",
    "\n",
    "crivspd = []\n",
    "_, ichildrivcol = cgwf.modelgrid.intersect(4250, yorigin + 1)\n",
    "for irowriv in range(cnrow):\n",
    "    crivspd.append([(0, irowriv, ichildrivcol), stage.mean(), 1.e5, -2])\n",
    "riv = flopy.mf6.ModflowGwfriv(cgwf, stress_period_data=crivspd)\n",
    "#welspd = [[(cnlay - 1, int(cnrow / 2), int(cncol / 2)), -1.5e5]]\n",
    "#wel = flopy.mf6.ModflowGwfwel(cgwf, print_input=True,\n",
    "#                              stress_period_data=welspd)\n",
    "oc = flopy.mf6.ModflowGwfoc(cgwf, pname='oc', budget_filerecord='{}.bud'.format(cmodel_name),\n",
    "                            head_filerecord='{}.hds'.format(cmodel_name),\n",
    "                            headprintrecord=[('COLUMNS', 10, 'WIDTH', 15,\n",
    "                                              'DIGITS', 6, 'GENERAL')],\n",
    "                            saverecord=[('HEAD', 'ALL'), ('BUDGET', 'ALL')],\n",
    "                            printrecord=[('HEAD', 'ALL'), ('BUDGET', 'ALL')])\n",
    "\n",
    "# exchange information\n",
    "exchangedata = lgr.get_exchange_data(angldegx=True, cdist=True)\n",
    "nexg = len(exchangedata)\n",
    "gwfe = flopy.mf6.ModflowGwfgwf(sim, exgtype='gwf6-gwf6', \n",
    "                               exgmnamea=name, exgmnameb=cmodel_name, \n",
    "                               nexg=nexg, auxiliary=['angldegx', 'cdist'], \n",
    "                               exchangedata=exchangedata)\n",
    "\n",
    "sim.write_simulation()\n",
    "sim.run_simulation()"
   ]
  },
  {
   "cell_type": "markdown",
   "metadata": {},
   "source": [
    "## Post-Process LGR Simulation"
   ]
  },
  {
   "cell_type": "code",
   "execution_count": null,
   "metadata": {},
   "outputs": [],
   "source": [
    "# parent\n",
    "head = flopy.utils.HeadFile(os.path.join(ws, head_file)).get_data()\n",
    "bud = flopy.utils.CellBudgetFile(os.path.join(ws, budget_file),\n",
    "                                 precision='double')\n",
    "spdis = bud.get_data(text='DATA-SPDIS')[0]\n",
    "head = np.ma.masked_equal(head, 1.e30)\n",
    "\n",
    "# child\n",
    "chead = flopy.utils.HeadFile(os.path.join(ws, cmodel_name + '.hds')).get_data()\n",
    "cbud = flopy.utils.CellBudgetFile(os.path.join(ws, cmodel_name + '.bud'),\n",
    "                                 precision='double')\n",
    "cspdis = cbud.get_data(text='DATA-SPDIS')[0]\n",
    "\n",
    "ilay = 0\n",
    "vmin = min(head[ilay].min(), chead[ilay].min())\n",
    "vmax = max(head[ilay].max(), chead[ilay].max())\n",
    "\n",
    "fig = plt.figure(figsize=(15, 15))\n",
    "ax = fig.add_subplot(1, 1, 1, aspect='equal')\n",
    "pmv = flopy.plot.PlotMapView(gwf, ax=ax, layer=ilay)\n",
    "quadmesh = pmv.plot_array(head, cmap='jet', vmin=vmin, vmax=vmax)\n",
    "pmv.plot_grid(colors='white')\n",
    "pmv.contour_array(head, levels=np.arange(20), linewidths=3.)\n",
    "pmv.plot_specific_discharge(spdis, color='white')\n",
    "ax.set_title('head min:{:.2f} max:{:.2f}'.format(head[ilay].min(), head[ilay].max()))\n",
    "plt.colorbar(quadmesh, shrink=0.5)\n",
    "\n",
    "\n",
    "pmv = flopy.plot.PlotMapView(cgwf, ax=ax, layer=ilay)\n",
    "quadmesh = pmv.plot_array(chead, cmap='jet', vmin=vmin, vmax=vmax)\n",
    "pmv.plot_grid(colors='white')\n",
    "pmv.contour_array(chead, levels=np.arange(20), linewidths=3.)\n",
    "#pmv.plot_specific_discharge(cspdis, color='white')\n",
    "\n",
    "ax.set_xlim(0, 12500)\n",
    "ax.set_ylim(0, 20000)"
   ]
  },
  {
   "cell_type": "code",
   "execution_count": null,
   "metadata": {},
   "outputs": [],
   "source": []
  }
 ],
 "metadata": {
  "kernelspec": {
   "display_name": "Python 3",
   "language": "python",
   "name": "python3"
  },
  "language_info": {
   "codemirror_mode": {
    "name": "ipython",
    "version": 3
   },
   "file_extension": ".py",
   "mimetype": "text/x-python",
   "name": "python",
   "nbconvert_exporter": "python",
   "pygments_lexer": "ipython3",
   "version": "3.7.3"
  }
 },
 "nbformat": 4,
 "nbformat_minor": 2
}
